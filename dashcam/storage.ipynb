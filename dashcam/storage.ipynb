{
 "cells": [
  {
   "cell_type": "code",
   "execution_count": 1,
   "metadata": {},
   "outputs": [],
   "source": [
    "KB = 1024.0\n",
    "MB = 1024 * KB\n",
    "GB = 1024 * MB"
   ]
  },
  {
   "cell_type": "code",
   "execution_count": 2,
   "metadata": {},
   "outputs": [],
   "source": [
    "QLOG = 2.2 * MB\n",
    "QCAM = QLOG\n",
    "\n",
    "RLOG = 56 * MB\n",
    "DCAM = ECAM = FCAM = 73 * MB"
   ]
  },
  {
   "cell_type": "code",
   "execution_count": 3,
   "metadata": {},
   "outputs": [
    {
     "name": "stdout",
     "output_type": "stream",
     "text": [
      "Training=275.0MB Dashcam=4.40MB\n",
      "Dashcam / Training (%) = 1.60%\n"
     ]
    }
   ],
   "source": [
    "TRAINING = RLOG + DCAM + ECAM + FCAM  # TODO: toggle dcam\n",
    "DASHCAM = QLOG + QCAM\n",
    "print(f\"Training={TRAINING/MB}MB Dashcam={DASHCAM/MB:.2f}MB\")\n",
    "print(f\"Dashcam / Training (%) = {DASHCAM/TRAINING*100:.2f}%\")"
   ]
  },
  {
   "cell_type": "code",
   "execution_count": 4,
   "metadata": {},
   "outputs": [
    {
     "name": "stdout",
     "output_type": "stream",
     "text": [
      "Training=275.0MB Dashcam=28.60MB\n",
      "Dashcam / Training (%) = 10.40%\n"
     ]
    }
   ],
   "source": [
    "# What if we increased qcam size and had three of them?\n",
    "QCAM = QCAM * 4 * 3\n",
    "DASHCAM = QLOG + QCAM\n",
    "print(f\"Training={TRAINING/MB}MB Dashcam={DASHCAM/MB:.2f}MB\")\n",
    "print(f\"Dashcam / Training (%) = {DASHCAM/TRAINING*100:.2f}%\")"
   ]
  },
  {
   "cell_type": "code",
   "execution_count": 5,
   "metadata": {},
   "outputs": [
    {
     "data": {
      "text/plain": [
       "100.0"
      ]
     },
     "execution_count": 5,
     "metadata": {},
     "output_type": "execute_result"
    }
   ],
   "source": [
    "# comma 3X with OP 0.9.7\n",
    "RESERVED_BYTES = (4.5 + 3.1 + 1.9) * GB  # 4.5G staging, 3.1G openpilot, 1.9G scons cache\n",
    "AVAILABLE_BYTES = 88 * GB - RESERVED_BYTES  # 88G partition\n",
    "# AVAILABLE_BYTES = 100 * GB  # 100 GB\n",
    "\n",
    "MIN_BYTES = 5 * GB\n",
    "MIN_PERCENT = 10\n",
    "\n",
    "def calculate_used_space(routes_training: list[str], routes_dashcam: list[str]) -> int:\n",
    "  return len(routes_training) * TRAINING + len(routes_dashcam) * DASHCAM\n",
    "\n",
    "def get_available_percent(routes_training: list[str], routes_dashcam: list[str]) -> float:\n",
    "  return 100 * (1 - calculate_used_space(routes_training, routes_dashcam) / AVAILABLE_BYTES)\n",
    "\n",
    "def get_available_bytes(routes_training: list[str], routes_dashcam: list[str]) -> int:\n",
    "  return AVAILABLE_BYTES - calculate_used_space(routes_training, routes_dashcam)\n",
    "\n",
    "get_available_percent([], [])"
   ]
  },
  {
   "cell_type": "code",
   "execution_count": 6,
   "metadata": {},
   "outputs": [
    {
     "data": {
      "text/plain": [
       "'0000000000'"
      ]
     },
     "execution_count": 6,
     "metadata": {},
     "output_type": "execute_result"
    }
   ],
   "source": [
    "class Logger:\n",
    "  route_counter = 0\n",
    "\n",
    "  def __init__(self):\n",
    "    self.route_counter = 0\n",
    "\n",
    "  def __next__(self) -> str:\n",
    "    log_id = f\"{self.route_counter:010}\"\n",
    "    self.route_counter += 1\n",
    "    return log_id\n",
    "\n",
    "next(Logger())"
   ]
  },
  {
   "cell_type": "code",
   "execution_count": 7,
   "metadata": {},
   "outputs": [],
   "source": [
    "def do_delete_original(routes_training: list[str], routes_dashcam: list[str]):\n",
    "  # remove earliest route from both lists\n",
    "  routes_training.pop(0)\n",
    "  routes_dashcam.pop(0)\n",
    "\n",
    "do_delete = do_delete_original"
   ]
  },
  {
   "cell_type": "code",
   "execution_count": 8,
   "metadata": {},
   "outputs": [],
   "source": [
    "# class Deleter:\n",
    "#   def __init__(self, minimum_bytes: int, minimum_percent: int, )\n",
    "\n",
    "def deleter(routes_training: list[str], routes_dashcam: list[str]):\n",
    "  while True:\n",
    "    out_of_bytes = get_available_bytes(routes_training, routes_dashcam) < MIN_BYTES\n",
    "    out_of_percent = get_available_percent(routes_training, routes_dashcam) < MIN_PERCENT\n",
    "\n",
    "    if not (out_of_bytes or out_of_percent):\n",
    "      return\n",
    "\n",
    "    # TODO: avoid deleting most recent N preserved segments\n",
    "\n",
    "    if len(routes_training) == 0 and len(routes_dashcam) == 0:\n",
    "      return\n",
    "\n",
    "    do_delete(routes_training, routes_dashcam)"
   ]
  },
  {
   "cell_type": "code",
   "execution_count": 9,
   "metadata": {},
   "outputs": [
    {
     "data": {
      "text/html": [
       "<div>\n",
       "<style scoped>\n",
       "    .dataframe tbody tr th:only-of-type {\n",
       "        vertical-align: middle;\n",
       "    }\n",
       "\n",
       "    .dataframe tbody tr th {\n",
       "        vertical-align: top;\n",
       "    }\n",
       "\n",
       "    .dataframe thead th {\n",
       "        text-align: right;\n",
       "    }\n",
       "</style>\n",
       "<table border=\"1\" class=\"dataframe\">\n",
       "  <thead>\n",
       "    <tr style=\"text-align: right;\">\n",
       "      <th></th>\n",
       "      <th>training_count</th>\n",
       "      <th>dashcam_count</th>\n",
       "      <th>training_bytes</th>\n",
       "      <th>dashcam_bytes</th>\n",
       "      <th>total_bytes</th>\n",
       "      <th>available_bytes</th>\n",
       "      <th>available_percent</th>\n",
       "    </tr>\n",
       "  </thead>\n",
       "  <tbody>\n",
       "    <tr>\n",
       "      <th>0</th>\n",
       "      <td>1</td>\n",
       "      <td>1</td>\n",
       "      <td>2.883584e+08</td>\n",
       "      <td>2.998927e+07</td>\n",
       "      <td>3.183477e+08</td>\n",
       "      <td>8.397039e+10</td>\n",
       "      <td>99.622313</td>\n",
       "    </tr>\n",
       "    <tr>\n",
       "      <th>1</th>\n",
       "      <td>2</td>\n",
       "      <td>2</td>\n",
       "      <td>5.767168e+08</td>\n",
       "      <td>5.997855e+07</td>\n",
       "      <td>6.366953e+08</td>\n",
       "      <td>8.365204e+10</td>\n",
       "      <td>99.244626</td>\n",
       "    </tr>\n",
       "    <tr>\n",
       "      <th>2</th>\n",
       "      <td>3</td>\n",
       "      <td>3</td>\n",
       "      <td>8.650752e+08</td>\n",
       "      <td>8.996782e+07</td>\n",
       "      <td>9.550430e+08</td>\n",
       "      <td>8.333369e+10</td>\n",
       "      <td>98.866939</td>\n",
       "    </tr>\n",
       "    <tr>\n",
       "      <th>3</th>\n",
       "      <td>4</td>\n",
       "      <td>4</td>\n",
       "      <td>1.153434e+09</td>\n",
       "      <td>1.199571e+08</td>\n",
       "      <td>1.273391e+09</td>\n",
       "      <td>8.301534e+10</td>\n",
       "      <td>98.489252</td>\n",
       "    </tr>\n",
       "    <tr>\n",
       "      <th>4</th>\n",
       "      <td>5</td>\n",
       "      <td>5</td>\n",
       "      <td>1.441792e+09</td>\n",
       "      <td>1.499464e+08</td>\n",
       "      <td>1.591738e+09</td>\n",
       "      <td>8.269699e+10</td>\n",
       "      <td>98.111564</td>\n",
       "    </tr>\n",
       "    <tr>\n",
       "      <th>...</th>\n",
       "      <td>...</td>\n",
       "      <td>...</td>\n",
       "      <td>...</td>\n",
       "      <td>...</td>\n",
       "      <td>...</td>\n",
       "      <td>...</td>\n",
       "      <td>...</td>\n",
       "    </tr>\n",
       "    <tr>\n",
       "      <th>1019</th>\n",
       "      <td>238</td>\n",
       "      <td>238</td>\n",
       "      <td>6.862930e+10</td>\n",
       "      <td>7.137447e+09</td>\n",
       "      <td>7.576675e+10</td>\n",
       "      <td>8.521987e+09</td>\n",
       "      <td>10.110470</td>\n",
       "    </tr>\n",
       "    <tr>\n",
       "      <th>1020</th>\n",
       "      <td>238</td>\n",
       "      <td>238</td>\n",
       "      <td>6.862930e+10</td>\n",
       "      <td>7.137447e+09</td>\n",
       "      <td>7.576675e+10</td>\n",
       "      <td>8.521987e+09</td>\n",
       "      <td>10.110470</td>\n",
       "    </tr>\n",
       "    <tr>\n",
       "      <th>1021</th>\n",
       "      <td>238</td>\n",
       "      <td>238</td>\n",
       "      <td>6.862930e+10</td>\n",
       "      <td>7.137447e+09</td>\n",
       "      <td>7.576675e+10</td>\n",
       "      <td>8.521987e+09</td>\n",
       "      <td>10.110470</td>\n",
       "    </tr>\n",
       "    <tr>\n",
       "      <th>1022</th>\n",
       "      <td>238</td>\n",
       "      <td>238</td>\n",
       "      <td>6.862930e+10</td>\n",
       "      <td>7.137447e+09</td>\n",
       "      <td>7.576675e+10</td>\n",
       "      <td>8.521987e+09</td>\n",
       "      <td>10.110470</td>\n",
       "    </tr>\n",
       "    <tr>\n",
       "      <th>1023</th>\n",
       "      <td>238</td>\n",
       "      <td>238</td>\n",
       "      <td>6.862930e+10</td>\n",
       "      <td>7.137447e+09</td>\n",
       "      <td>7.576675e+10</td>\n",
       "      <td>8.521987e+09</td>\n",
       "      <td>10.110470</td>\n",
       "    </tr>\n",
       "  </tbody>\n",
       "</table>\n",
       "<p>1024 rows × 7 columns</p>\n",
       "</div>"
      ],
      "text/plain": [
       "      training_count  dashcam_count  training_bytes  dashcam_bytes  \\\n",
       "0                  1              1    2.883584e+08   2.998927e+07   \n",
       "1                  2              2    5.767168e+08   5.997855e+07   \n",
       "2                  3              3    8.650752e+08   8.996782e+07   \n",
       "3                  4              4    1.153434e+09   1.199571e+08   \n",
       "4                  5              5    1.441792e+09   1.499464e+08   \n",
       "...              ...            ...             ...            ...   \n",
       "1019             238            238    6.862930e+10   7.137447e+09   \n",
       "1020             238            238    6.862930e+10   7.137447e+09   \n",
       "1021             238            238    6.862930e+10   7.137447e+09   \n",
       "1022             238            238    6.862930e+10   7.137447e+09   \n",
       "1023             238            238    6.862930e+10   7.137447e+09   \n",
       "\n",
       "       total_bytes  available_bytes  available_percent  \n",
       "0     3.183477e+08     8.397039e+10          99.622313  \n",
       "1     6.366953e+08     8.365204e+10          99.244626  \n",
       "2     9.550430e+08     8.333369e+10          98.866939  \n",
       "3     1.273391e+09     8.301534e+10          98.489252  \n",
       "4     1.591738e+09     8.269699e+10          98.111564  \n",
       "...            ...              ...                ...  \n",
       "1019  7.576675e+10     8.521987e+09          10.110470  \n",
       "1020  7.576675e+10     8.521987e+09          10.110470  \n",
       "1021  7.576675e+10     8.521987e+09          10.110470  \n",
       "1022  7.576675e+10     8.521987e+09          10.110470  \n",
       "1023  7.576675e+10     8.521987e+09          10.110470  \n",
       "\n",
       "[1024 rows x 7 columns]"
      ]
     },
     "execution_count": 9,
     "metadata": {},
     "output_type": "execute_result"
    }
   ],
   "source": [
    "import pandas as pd\n",
    "\n",
    "\n",
    "def loop(count: int):\n",
    "  logger = Logger()\n",
    "  routes_training = []\n",
    "  routes_dashcam = []\n",
    "\n",
    "  header = [\"training_count\", \"dashcam_count\", \"training_bytes\", \"dashcam_bytes\", \"total_bytes\", \"available_bytes\", \"available_percent\"]\n",
    "  rows = []\n",
    "\n",
    "  for _ in range(count):\n",
    "    # 1. log new segment\n",
    "    log_id = next(logger)\n",
    "    routes_training.append(log_id)\n",
    "    routes_dashcam.append(log_id)\n",
    "\n",
    "    # 2. run deleter\n",
    "    deleter(routes_training, routes_dashcam)\n",
    "\n",
    "    # 3. append stats\n",
    "    training_count, dashcam_count = len(routes_training), len(routes_dashcam)\n",
    "    rows.append([\n",
    "      training_count,\n",
    "      dashcam_count,\n",
    "      training_count * TRAINING,\n",
    "      dashcam_count * DASHCAM,\n",
    "      training_count * TRAINING + dashcam_count * DASHCAM,\n",
    "      get_available_bytes(routes_training, routes_dashcam),\n",
    "      get_available_percent(routes_training, routes_dashcam),\n",
    "    ])\n",
    "\n",
    "  return pd.DataFrame(rows, columns=header)\n",
    "\n",
    "\n",
    "df = loop(1024)\n",
    "df"
   ]
  },
  {
   "cell_type": "code",
   "execution_count": 10,
   "metadata": {},
   "outputs": [
    {
     "data": {
      "text/plain": [
       "'238 minutes'"
      ]
     },
     "execution_count": 10,
     "metadata": {},
     "output_type": "execute_result"
    }
   ],
   "source": [
    "f\"{df[\"dashcam_count\"].iloc[-1]} minutes\""
   ]
  },
  {
   "cell_type": "code",
   "execution_count": null,
   "metadata": {},
   "outputs": [],
   "source": []
  }
 ],
 "metadata": {
  "kernelspec": {
   "display_name": ".venv",
   "language": "python",
   "name": "python3"
  },
  "language_info": {
   "codemirror_mode": {
    "name": "ipython",
    "version": 3
   },
   "file_extension": ".py",
   "mimetype": "text/x-python",
   "name": "python",
   "nbconvert_exporter": "python",
   "pygments_lexer": "ipython3",
   "version": "3.12.7"
  }
 },
 "nbformat": 4,
 "nbformat_minor": 2
}
