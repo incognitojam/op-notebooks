{
 "cells": [
  {
   "cell_type": "code",
   "execution_count": 1,
   "metadata": {},
   "outputs": [
    {
     "name": "stderr",
     "output_type": "stream",
     "text": [
      "kj/filesystem-disk-unix.c++:1703: warning: PWD environment variable doesn't match current directory; pwd = /mnt/c/Users/camer/AppData/Local/Programs/Microsoft VS Code\n"
     ]
    }
   ],
   "source": [
    "from openpilot.tools.lib.comma_car_segments import get_comma_car_segments_database\n",
    "from openpilot.selfdrive.car.ford.values import CAR\n",
    "\n",
    "database = get_comma_car_segments_database()\n",
    "\n",
    "platforms = [c.value for c in CAR]"
   ]
  },
  {
   "cell_type": "code",
   "execution_count": 2,
   "metadata": {},
   "outputs": [
    {
     "name": "stdout",
     "output_type": "stream",
     "text": [
      "Got 287 segments for platform FORD BRONCO SPORT 1ST GEN, sampling 10 segments\n",
      "Got 137 segments for platform FORD ESCAPE 4TH GEN, sampling 10 segments\n",
      "Got 1041 segments for platform FORD EXPLORER 6TH GEN, sampling 10 segments\n",
      "Got 5 segments for platform FORD F-150 14TH GEN, sampling 5 segments\n",
      "Got 56 segments for platform FORD FOCUS 4TH GEN, sampling 10 segments\n",
      "Got 637 segments for platform FORD MAVERICK 1ST GEN, sampling 10 segments\n",
      "Got 3 segments for platform FORD F-150 LIGHTNING 1ST GEN, sampling 3 segments\n",
      "Got 3 segments for platform FORD MUSTANG MACH-E 1ST GEN, sampling 3 segments\n"
     ]
    }
   ],
   "source": [
    "import random\n",
    "\n",
    "from openpilot.tools.lib.logreader import LogReader\n",
    "\n",
    "MAX_SEGS_PER_PLATFORM = 10\n",
    "\n",
    "CAR_FW_TO_CHECK = []\n",
    "VINS = set()\n",
    "\n",
    "for platform in platforms:\n",
    "  if platform not in database:\n",
    "    print(f'Skipping platform: {platform}, no data available')\n",
    "    continue\n",
    "  \n",
    "  all_segments = database[platform]\n",
    "\n",
    "  NUM_SEGMENTS = min(len(all_segments), MAX_SEGS_PER_PLATFORM)\n",
    "\n",
    "  print(f'Got {len(all_segments)} segments for platform {platform}, sampling {NUM_SEGMENTS} segments')\n",
    "\n",
    "  segments = random.sample(all_segments, NUM_SEGMENTS)\n",
    "\n",
    "  for segment in segments:\n",
    "    lr = LogReader(segment)\n",
    "    CP = lr.first('carParams')\n",
    "    if CP.carVin in VINS:\n",
    "      continue\n",
    "    VINS.add(CP.carVin)\n",
    "    CAR_FW_TO_CHECK.append(CP)"
   ]
  },
  {
   "cell_type": "code",
   "execution_count": 7,
   "metadata": {},
   "outputs": [
    {
     "name": "stdout",
     "output_type": "stream",
     "text": [
      "vin='5LM5J7XC1LGXXXXXX'  real_fingerprint=FORD EXPLORER 6TH GEN         source=fixed  determined_fingerprint=mock                         (exact_match=True)\n",
      "  addr=0x7e0 fw={b'LB5A-14C204-AZJ\\x00\\x00\\x00\\x00\\x00\\x00\\x00\\x00\\x00'}\n",
      "  addr=0x730 fw={b'L1MC-14D003-AJ\\x00\\x00\\x00\\x00\\x00\\x00\\x00\\x00\\x00\\x00'}\n",
      "  addr=0x760 fw={b'L1MC-2D053-AJ\\x00\\x00\\x00\\x00\\x00\\x00\\x00\\x00\\x00\\x00\\x00'}\n",
      "  addr=0x706 fw={b'LC5T-14F397-AE\\x00\\x00\\x00\\x00\\x00\\x00\\x00\\x00\\x00\\x00'}\n",
      "  addr=0x764 fw={b'LB5T-14D049-AB\\x00\\x00\\x00\\x00\\x00\\x00\\x00\\x00\\x00\\x00'}\n",
      "\n",
      "vin='00000000000XXXXXX'  real_fingerprint=FORD F-150 14TH GEN           source=fixed  determined_fingerprint=mock                         (exact_match=True)\n",
      "\n",
      "vin='3FTTW8E3XPRXXXXXX'  real_fingerprint=FORD MAVERICK 1ST GEN         source=fw  determined_fingerprint=mock                         (exact_match=True)\n",
      "  addr=0x7e0 fw={b'PZ6A-14C204-JE\\x00\\x00\\x00\\x00\\x00\\x00\\x00\\x00\\x00\\x00'}\n",
      "  addr=0x730 fw={b'NZ6C-14D003-AL\\x00\\x00\\x00\\x00\\x00\\x00\\x00\\x00\\x00\\x00'}\n",
      "  addr=0x760 fw={b'PZ6C-2D053-ED\\x00\\x00\\x00\\x00\\x00\\x00\\x00\\x00\\x00\\x00\\x00'}\n",
      "  addr=0x706 fw={b'NZ6T-14F397-AC\\x00\\x00\\x00\\x00\\x00\\x00\\x00\\x00\\x00\\x00'}\n",
      "\n",
      "                  vin  has_radar              real_fingerprint  real_fuzzy        determined_fingerprint  determined_fuzzy  changed\n",
      "0   3FMCR9B69NRXXXXXX       True     FORD BRONCO SPORT 1ST GEN       False     FORD BRONCO SPORT 1ST GEN             False    False\n",
      "1   1FMCU9J94MUXXXXXX       True           FORD ESCAPE 4TH GEN       False           FORD ESCAPE 4TH GEN             False    False\n",
      "2   5LM5J7XC1LGXXXXXX       True         FORD EXPLORER 6TH GEN       False                          mock             False     True\n",
      "3   5LM5J7XC9LGXXXXXX       True         FORD EXPLORER 6TH GEN       False         FORD EXPLORER 6TH GEN             False    False\n",
      "4   1FM5K8HC7MGXXXXXX       True         FORD EXPLORER 6TH GEN       False         FORD EXPLORER 6TH GEN             False    False\n",
      "5   1FMSK8DHXNGXXXXXX       True         FORD EXPLORER 6TH GEN       False         FORD EXPLORER 6TH GEN             False    False\n",
      "6   00000000000XXXXXX      False           FORD F-150 14TH GEN       False                          mock             False     True\n",
      "7   WF0NXXGCHNJXXXXXX       True            FORD FOCUS 4TH GEN       False            FORD FOCUS 4TH GEN             False    False\n",
      "8   3FTTW8E3XPRXXXXXX      False         FORD MAVERICK 1ST GEN        True                          mock             False     True\n",
      "9   3FTTW8E33PRXXXXXX       True         FORD MAVERICK 1ST GEN       False         FORD MAVERICK 1ST GEN             False    False\n",
      "10  3FTTW8E99NRXXXXXX       True         FORD MAVERICK 1ST GEN       False         FORD MAVERICK 1ST GEN             False    False\n",
      "11  3FTTW8F97NRXXXXXX       True         FORD MAVERICK 1ST GEN       False         FORD MAVERICK 1ST GEN             False    False\n",
      "12  1FTVW1EL4NWXXXXXX       True  FORD F-150 LIGHTNING 1ST GEN       False  FORD F-150 LIGHTNING 1ST GEN             False    False\n",
      "13  3FMTK3SU0MMXXXXXX       True   FORD MUSTANG MACH-E 1ST GEN       False   FORD MUSTANG MACH-E 1ST GEN             False    False\n"
     ]
    }
   ],
   "source": [
    "import pandas as pd\n",
    "\n",
    "from openpilot.selfdrive.car.fw_versions import build_fw_dict, match_fw_to_car\n",
    "\n",
    "results = []\n",
    "for CP in CAR_FW_TO_CHECK:\n",
    "  vin = CP.carVin\n",
    "  real_fingerprint, real_fuzzy, source = CP.carFingerprint, CP.fuzzyFingerprint, CP.fingerprintSource\n",
    "  car_fw = CP.carFw\n",
    "\n",
    "  exact_match, determined_fingerprint = match_fw_to_car(car_fw, log=False)\n",
    "  determined_fuzzy = not exact_match\n",
    "\n",
    "  if len(determined_fingerprint) == 1:\n",
    "    determined_fingerprint = determined_fingerprint.pop()\n",
    "  elif len(determined_fingerprint) == 0:\n",
    "    determined_fingerprint = 'mock'\n",
    "  else:\n",
    "    determined_fingerprint = 'multiple'\n",
    "\n",
    "  fw_dict = build_fw_dict(CP.carFw)\n",
    "  has_radar = (0x764, None) in fw_dict.keys()\n",
    "\n",
    "  changed = (real_fingerprint != determined_fingerprint) or (real_fuzzy != determined_fuzzy)\n",
    "  results.append((vin, has_radar,\n",
    "                  real_fingerprint, real_fuzzy, determined_fingerprint, determined_fuzzy,\n",
    "                  changed))\n",
    "\n",
    "  if changed:\n",
    "    print(f'{vin=}  {real_fingerprint=:<28}  source={source}  {determined_fingerprint=:<28} ({exact_match=})')\n",
    "    if determined_fingerprint != real_fingerprint:\n",
    "      for addr, fw in build_fw_dict(car_fw).items():\n",
    "        print(f'  addr={hex(addr[0])} {fw=}')\n",
    "    print()\n",
    "\n",
    "df = pd.DataFrame(results, columns=['vin', 'has_radar', 'real_fingerprint', 'real_fuzzy', 'determined_fingerprint', 'determined_fuzzy', 'changed'])\n",
    "print(df.to_string())"
   ]
  },
  {
   "cell_type": "code",
   "execution_count": null,
   "metadata": {},
   "outputs": [],
   "source": []
  }
 ],
 "metadata": {
  "kernelspec": {
   "display_name": ".venv",
   "language": "python",
   "name": "python3"
  },
  "language_info": {
   "codemirror_mode": {
    "name": "ipython",
    "version": 3
   },
   "file_extension": ".py",
   "mimetype": "text/x-python",
   "name": "python",
   "nbconvert_exporter": "python",
   "pygments_lexer": "ipython3",
   "version": "3.11.4"
  }
 },
 "nbformat": 4,
 "nbformat_minor": 2
}
