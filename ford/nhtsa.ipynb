{
 "cells": [
  {
   "cell_type": "code",
   "execution_count": null,
   "metadata": {},
   "outputs": [],
   "source": [
    "import pandas as pd\n",
    "\n",
    "df_vins = pd.read_csv('vins.csv', dtype={'pr': 'str'})\n",
    "\n",
    "duplicates = df_vins[df_vins.duplicated(subset=['vin'], keep=False)]\n",
    "print(f'Found {len(duplicates)} duplicate VINs')\n",
    "if len(duplicates):\n",
    "  print(duplicates)\n",
    "\n",
    "# remove rows with non-empty 'pr' column (these were added in openpilot PRs)\n",
    "# df_vins = df_vins[df_vins['pr'].isnull()]\n",
    "# df_vins.drop(columns=['pr'], inplace=True)\n",
    "\n",
    "# reset index\n",
    "df_vins.reset_index(drop=True, inplace=True)\n",
    "\n",
    "print(f'Loaded {len(df_vins)} VINs')\n",
    "vins = list(df_vins['vin'])"
   ]
  }
 ],
 "metadata": {
  "language_info": {
   "name": "python"
  }
 },
 "nbformat": 4,
 "nbformat_minor": 2
}
