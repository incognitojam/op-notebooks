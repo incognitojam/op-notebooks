{
 "cells": [
  {
   "cell_type": "code",
   "execution_count": null,
   "metadata": {},
   "outputs": [],
   "source": [
    "from cereal import car\n",
    "\n",
    "Ecu = car.CarParams.Ecu\n",
    "\n",
    "# Compare Engine FW and Fuel Type\n",
    "df_engine_rows = []\n",
    "for vin in candidates:\n",
    "  car_fw = get_car_fw(vin)\n",
    "  if not car_fw:\n",
    "    continue\n",
    "  vin_values = decode_nhtsa_vin_values(vin)\n",
    "  if vin_values is None:\n",
    "    continue\n",
    "  df_engine_rows.append([\n",
    "    vin,\n",
    "    car_fw[Ecu.engine],\n",
    "    vin_values['FuelTypePrimary'],\n",
    "  ])\n",
    "\n",
    "df_engine = pd.DataFrame(columns=['vin', 'car_fw', 'fuel_type'], data=df_engine_rows)\n",
    "df_engine"
   ]
  }
 ],
 "metadata": {
  "language_info": {
   "name": "python"
  }
 },
 "nbformat": 4,
 "nbformat_minor": 2
}
