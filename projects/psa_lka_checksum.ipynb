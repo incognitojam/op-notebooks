{
 "cells": [
  {
   "cell_type": "code",
   "execution_count": 1,
   "metadata": {},
   "outputs": [
    {
     "name": "stderr",
     "output_type": "stream",
     "text": [
      "kj/filesystem-disk-unix.c++:1703: warning: PWD environment variable doesn't match current directory; pwd = /mnt/c/Users/camer/AppData/Local/Programs/Microsoft VS Code\n"
     ]
    },
    {
     "data": {
      "text/plain": [
       "1444855"
      ]
     },
     "execution_count": 1,
     "metadata": {},
     "output_type": "execute_result"
    }
   ],
   "source": [
    "from typing import Iterator\n",
    "\n",
    "from openpilot.tools.lib.logreader import LogReader\n",
    "\n",
    "IDENTIFIERS = [\n",
    "  \"0b9d9ff7c65286db/00000004--52d36c6566\",\n",
    "  \"0b9d9ff7c65286db/00000005--db16a09ea1\",\n",
    "]\n",
    "\n",
    "\n",
    "def collect_can_frames(identifier: str, bus: int) -> Iterator[tuple[float, int, bytes]]:\n",
    "  t0 = None\n",
    "  for evt in LogReader(identifier):\n",
    "    which = evt.which()\n",
    "    if which != 'can':\n",
    "      if t0 is None and which != 'initData':\n",
    "        t0 = evt.logMonoTime\n",
    "      continue\n",
    "    for can in evt.can:\n",
    "      # if can.address != address:\n",
    "      #   continue\n",
    "      if can.src != bus:\n",
    "        continue\n",
    "      t = (evt.logMonoTime - t0) / 1e9\n",
    "      yield t, can.address, can.dat\n",
    "\n",
    "\n",
    "LANE_KEEP_ASSIST = 0x3F2\n",
    "BUS = 2\n",
    "\n",
    "frames = []\n",
    "for identifier in IDENTIFIERS:\n",
    "  frames.extend(collect_can_frames(identifier, BUS))\n",
    "\n",
    "len(frames)"
   ]
  },
  {
   "cell_type": "code",
   "execution_count": 2,
   "metadata": {},
   "outputs": [
    {
     "data": {
      "text/html": [
       "<div>\n",
       "<style scoped>\n",
       "    .dataframe tbody tr th:only-of-type {\n",
       "        vertical-align: middle;\n",
       "    }\n",
       "\n",
       "    .dataframe tbody tr th {\n",
       "        vertical-align: top;\n",
       "    }\n",
       "\n",
       "    .dataframe thead th {\n",
       "        text-align: right;\n",
       "    }\n",
       "</style>\n",
       "<table border=\"1\" class=\"dataframe\">\n",
       "  <thead>\n",
       "    <tr style=\"text-align: right;\">\n",
       "      <th></th>\n",
       "      <th>t</th>\n",
       "      <th>addr</th>\n",
       "      <th>dat</th>\n",
       "    </tr>\n",
       "  </thead>\n",
       "  <tbody>\n",
       "    <tr>\n",
       "      <th>0</th>\n",
       "      <td>-0.473895</td>\n",
       "      <td>973</td>\n",
       "      <td>b'\\x00\\x06\\x00\\x00\\x00\"`\\x8b'</td>\n",
       "    </tr>\n",
       "    <tr>\n",
       "      <th>1</th>\n",
       "      <td>-0.473895</td>\n",
       "      <td>1037</td>\n",
       "      <td>b'\\x00\\x00\\x00\\x00\\x00\\x00\\x00\\x05'</td>\n",
       "    </tr>\n",
       "    <tr>\n",
       "      <th>2</th>\n",
       "      <td>-0.473895</td>\n",
       "      <td>520</td>\n",
       "      <td>b'\\x1aP2\\x00@222'</td>\n",
       "    </tr>\n",
       "    <tr>\n",
       "      <th>3</th>\n",
       "      <td>-0.473895</td>\n",
       "      <td>1416</td>\n",
       "      <td>b'\\x00\\xff\\x00\\x000U\\x00\\x06'</td>\n",
       "    </tr>\n",
       "    <tr>\n",
       "      <th>4</th>\n",
       "      <td>-0.473895</td>\n",
       "      <td>114</td>\n",
       "      <td>b'\\x02\\x00\\x00\\x00\\x00'</td>\n",
       "    </tr>\n",
       "  </tbody>\n",
       "</table>\n",
       "</div>"
      ],
      "text/plain": [
       "          t  addr                                  dat\n",
       "0 -0.473895   973        b'\\x00\\x06\\x00\\x00\\x00\"`\\x8b'\n",
       "1 -0.473895  1037  b'\\x00\\x00\\x00\\x00\\x00\\x00\\x00\\x05'\n",
       "2 -0.473895   520                    b'\\x1aP2\\x00@222'\n",
       "3 -0.473895  1416        b'\\x00\\xff\\x00\\x000U\\x00\\x06'\n",
       "4 -0.473895   114              b'\\x02\\x00\\x00\\x00\\x00'"
      ]
     },
     "execution_count": 2,
     "metadata": {},
     "output_type": "execute_result"
    }
   ],
   "source": [
    "import pandas as pd\n",
    "\n",
    "df = pd.DataFrame(frames, columns=['t', 'addr', 'dat']).drop_duplicates(subset=['addr', 'dat'])\n",
    "df.head()"
   ]
  },
  {
   "cell_type": "code",
   "execution_count": 3,
   "metadata": {},
   "outputs": [],
   "source": [
    "checksum_byte_index = {\n",
    "  0x2ED: 1,\n",
    "  0x2F5: 1,\n",
    "  0x305: 4,\n",
    "  0x38D: 5,\n",
    "  0x3CD: 7,\n",
    "  0x3F2: 1,\n",
    "  0x5CD: 1,\n",
    "}\n",
    "checksum_low_nibble = {0x38D, }\n",
    "\n",
    "def get_checksum(dat: bytes, addr: int) -> int:\n",
    "  if addr not in checksum_byte_index:\n",
    "    raise ValueError(f\"Unhandled address 0x{addr:0X}\")\n",
    "\n",
    "  byte = dat[checksum_byte_index[addr]]\n",
    "  return byte & 0xF if addr in checksum_low_nibble else byte >> 4\n",
    "\n",
    "def strip_checksum(dat: bytes, addr: int) -> bytearray:\n",
    "  if addr not in checksum_byte_index:\n",
    "    raise ValueError(f\"Unhandled address 0x{addr:0X}\")\n",
    "\n",
    "  dat = bytearray(dat)\n",
    "  if addr in checksum_low_nibble:\n",
    "    dat[checksum_byte_index[addr]] &= 0xF0\n",
    "  else:\n",
    "    dat[checksum_byte_index[addr]] &= 0x0F\n",
    "  return dat\n",
    "\n",
    "# assume checksum is zeroed out\n",
    "def calculate_checksum(dat: bytes, init: int = 0) -> int:\n",
    "  agg = init\n",
    "  for i in range(len(dat)):\n",
    "    agg += (dat[i] & 0xF) + (dat[i] >> 4)\n",
    "  return (8 - agg) & 0xF"
   ]
  },
  {
   "cell_type": "code",
   "execution_count": 4,
   "metadata": {},
   "outputs": [
    {
     "name": "stdout",
     "output_type": "stream",
     "text": [
      "checksum_init = {\n",
      "  0x2ED: 0x6,\n",
      "  0x2F5: 0xD,\n",
      "  0x3CD: 0x5,\n",
      "  0x3F2: 0xD,\n",
      "  0x5CD: 0x7,\n",
      "}\n"
     ]
    }
   ],
   "source": [
    "def predict_init(data: pd.Series, addr: int) -> int:\n",
    "  actual_checksum = data.apply(lambda dat: get_checksum(dat, addr))\n",
    "\n",
    "  for init in range(0x10):\n",
    "    def calculate(dat):\n",
    "      return calculate_checksum(strip_checksum(dat, addr), init)\n",
    "\n",
    "    calculated_checksum = data.apply(calculate)\n",
    "    if (actual_checksum == calculated_checksum).all():\n",
    "      return init\n",
    "  raise ValueError(f\"Could not find init for address 0x{addr:0X}\")\n",
    "\n",
    "\n",
    "skip = (0x305, 0x38D)\n",
    "\n",
    "print(\"checksum_init = {\")\n",
    "for addr in checksum_byte_index.keys():\n",
    "  if addr in skip:\n",
    "    continue\n",
    "  init = predict_init(df[df.addr == addr].dat, addr)\n",
    "  print(f\"  0x{addr:0X}: 0x{init:0X},\")\n",
    "print(\"}\")"
   ]
  },
  {
   "cell_type": "code",
   "execution_count": 5,
   "metadata": {},
   "outputs": [],
   "source": [
    "checksum_init = {\n",
    "  0x2ED: 0x6,\n",
    "  0x2F5: 0xD,\n",
    "  0x3CD: 0x5,\n",
    "  0x3F2: 0xD,\n",
    "  0x5CD: 0x7,\n",
    "}"
   ]
  },
  {
   "cell_type": "code",
   "execution_count": 6,
   "metadata": {},
   "outputs": [
    {
     "name": "stdout",
     "output_type": "stream",
     "text": [
      "0x2ED: 100.00%\n",
      "0x2F5: 100.00%\n",
      "0x3CD: 100.00%\n",
      "0x3F2: 100.00%\n",
      "0x5CD: 100.00%\n"
     ]
    }
   ],
   "source": [
    "def validate_init(data: pd.Series, addr: int, init: int) -> float:\n",
    "  calculated_checksum = data.apply(lambda dat: calculate_checksum(strip_checksum(dat, addr), init))\n",
    "  actual_checksum = data.apply(lambda dat: get_checksum(dat, addr))\n",
    "  return (calculated_checksum == actual_checksum).sum() / len(actual_checksum)\n",
    "\n",
    "for addr, init in checksum_init.items():\n",
    "  data = df[df.addr == addr].dat\n",
    "  correct_pct = validate_init(data, addr, init)\n",
    "  print(f\"0x{addr:0X}: {correct_pct:.2%}\")"
   ]
  },
  {
   "cell_type": "code",
   "execution_count": null,
   "metadata": {},
   "outputs": [],
   "source": []
  }
 ],
 "metadata": {
  "kernelspec": {
   "display_name": ".venv",
   "language": "python",
   "name": "python3"
  },
  "language_info": {
   "codemirror_mode": {
    "name": "ipython",
    "version": 3
   },
   "file_extension": ".py",
   "mimetype": "text/x-python",
   "name": "python",
   "nbconvert_exporter": "python",
   "pygments_lexer": "ipython3",
   "version": "3.11.4"
  }
 },
 "nbformat": 4,
 "nbformat_minor": 2
}
