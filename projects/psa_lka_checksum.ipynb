{
 "cells": [
  {
   "cell_type": "code",
   "execution_count": 1,
   "metadata": {},
   "outputs": [
    {
     "name": "stderr",
     "output_type": "stream",
     "text": [
      "kj/filesystem-disk-unix.c++:1703: warning: PWD environment variable doesn't match current directory; pwd = /mnt/c/Users/camer/AppData/Local/Programs/Microsoft VS Code\n"
     ]
    },
    {
     "data": {
      "text/plain": [
       "26370"
      ]
     },
     "execution_count": 1,
     "metadata": {},
     "output_type": "execute_result"
    }
   ],
   "source": [
    "from typing import Iterator\n",
    "\n",
    "from openpilot.tools.lib.logreader import LogReader\n",
    "\n",
    "IDENTIFIERS = [\n",
    "  \"0b9d9ff7c65286db/00000004--52d36c6566\",\n",
    "  \"0b9d9ff7c65286db/00000005--db16a09ea1\",\n",
    "]\n",
    "\n",
    "\n",
    "def collect_can_frames(identifier: str, address: int, bus: int) -> Iterator[tuple[int, bytes]]:\n",
    "  t0 = None\n",
    "  for evt in LogReader(identifier):\n",
    "    which = evt.which()\n",
    "    if which != 'can':\n",
    "      if t0 is None and which != 'initData':\n",
    "        t0 = evt.logMonoTime\n",
    "      continue\n",
    "    for can in evt.can:\n",
    "      if can.address != address:\n",
    "        continue\n",
    "      if can.src != bus:\n",
    "        continue\n",
    "      t = (evt.logMonoTime - t0) / 1e9\n",
    "      yield t, can.dat\n",
    "\n",
    "\n",
    "LANE_KEEP_ASSIST = 0x3F2\n",
    "BUS = 2\n",
    "\n",
    "frames = []\n",
    "for identifier in IDENTIFIERS:\n",
    "  frames.extend(collect_can_frames(identifier, LANE_KEEP_ASSIST, BUS))\n",
    "\n",
    "len(frames)"
   ]
  },
  {
   "cell_type": "code",
   "execution_count": 2,
   "metadata": {},
   "outputs": [],
   "source": [
    "# dat[1] & 0xF0 is checksum (4 bits)\n",
    "def strip_checksum(dat: bytes) -> tuple[bytearray, int]:\n",
    "  dat = bytearray(dat)\n",
    "  checksum = (dat[1] & 0xF0) >> 4\n",
    "  dat[1] &= 0x0F\n",
    "  return dat, checksum\n",
    "\n",
    "frames_with_checksum = [(t, *strip_checksum(dat)) for t, dat in frames]"
   ]
  },
  {
   "cell_type": "code",
   "execution_count": 3,
   "metadata": {},
   "outputs": [
    {
     "data": {
      "text/html": [
       "<div>\n",
       "<style scoped>\n",
       "    .dataframe tbody tr th:only-of-type {\n",
       "        vertical-align: middle;\n",
       "    }\n",
       "\n",
       "    .dataframe tbody tr th {\n",
       "        vertical-align: top;\n",
       "    }\n",
       "\n",
       "    .dataframe thead th {\n",
       "        text-align: right;\n",
       "    }\n",
       "</style>\n",
       "<table border=\"1\" class=\"dataframe\">\n",
       "  <thead>\n",
       "    <tr style=\"text-align: right;\">\n",
       "      <th></th>\n",
       "      <th>t</th>\n",
       "      <th>dat</th>\n",
       "      <th>checksum</th>\n",
       "    </tr>\n",
       "  </thead>\n",
       "  <tbody>\n",
       "    <tr>\n",
       "      <th>0</th>\n",
       "      <td>-0.443376</td>\n",
       "      <td>[0, 0, 0, 0, 8, 0, 1, 110]</td>\n",
       "      <td>14</td>\n",
       "    </tr>\n",
       "    <tr>\n",
       "      <th>1</th>\n",
       "      <td>-0.394022</td>\n",
       "      <td>[0, 1, 0, 0, 8, 0, 1, 106]</td>\n",
       "      <td>1</td>\n",
       "    </tr>\n",
       "    <tr>\n",
       "      <th>2</th>\n",
       "      <td>-0.344220</td>\n",
       "      <td>[0, 2, 0, 0, 8, 0, 1, 106]</td>\n",
       "      <td>0</td>\n",
       "    </tr>\n",
       "    <tr>\n",
       "      <th>3</th>\n",
       "      <td>-0.293509</td>\n",
       "      <td>[0, 3, 0, 0, 8, 0, 1, 106]</td>\n",
       "      <td>15</td>\n",
       "    </tr>\n",
       "    <tr>\n",
       "      <th>4</th>\n",
       "      <td>-0.244258</td>\n",
       "      <td>[0, 4, 0, 0, 8, 0, 1, 106]</td>\n",
       "      <td>14</td>\n",
       "    </tr>\n",
       "  </tbody>\n",
       "</table>\n",
       "</div>"
      ],
      "text/plain": [
       "          t                         dat  checksum\n",
       "0 -0.443376  [0, 0, 0, 0, 8, 0, 1, 110]        14\n",
       "1 -0.394022  [0, 1, 0, 0, 8, 0, 1, 106]         1\n",
       "2 -0.344220  [0, 2, 0, 0, 8, 0, 1, 106]         0\n",
       "3 -0.293509  [0, 3, 0, 0, 8, 0, 1, 106]        15\n",
       "4 -0.244258  [0, 4, 0, 0, 8, 0, 1, 106]        14"
      ]
     },
     "execution_count": 3,
     "metadata": {},
     "output_type": "execute_result"
    }
   ],
   "source": [
    "import pandas as pd\n",
    "\n",
    "df = pd.DataFrame(frames_with_checksum, columns=['t', 'dat', 'checksum']).drop_duplicates(subset=['dat'])\n",
    "df.head()"
   ]
  },
  {
   "cell_type": "code",
   "execution_count": 4,
   "metadata": {},
   "outputs": [],
   "source": [
    "def get_checksum(dat: bytes, addr: int) -> int:\n",
    "  byte_index = {\n",
    "    0x2ED: 1,\n",
    "    0x2F5: 1,\n",
    "    0x305: 4,\n",
    "    0x38D: 5,\n",
    "    0x3CD: 7,\n",
    "    0x3F2: 1,\n",
    "    0x5CD: 1,\n",
    "  }\n",
    "  low_nibble = addr in (0x38D, )\n",
    "\n",
    "  if addr not in byte_index:\n",
    "    raise ValueError(f\"Unhandled address {addr}\")\n",
    "\n",
    "  byte = dat[byte_index[addr]]\n",
    "  return byte & 0xF if low_nibble else byte >> 4\n",
    "\n",
    "# assume checksum is zeroed out\n",
    "def calculate_checksum(dat: bytes, addr: int) -> int:\n",
    "  init = {\n",
    "    0x3F2: 0xD,\n",
    "  }\n",
    "  if addr not in init:\n",
    "    raise ValueError(f\"Unhandled address {addr}\")\n",
    "  agg = init[addr]\n",
    "  for i in range(8):\n",
    "    agg += (dat[i] & 0xF) + (dat[i] >> 4)\n",
    "  return (8 - agg) & 0xF"
   ]
  },
  {
   "cell_type": "code",
   "execution_count": 5,
   "metadata": {},
   "outputs": [
    {
     "name": "stdout",
     "output_type": "stream",
     "text": [
      "100.00%\n"
     ]
    }
   ],
   "source": [
    "calculated_checksum = df['dat'].apply(lambda dat: calculate_checksum(dat, LANE_KEEP_ASSIST))\n",
    "correct = calculated_checksum == df['checksum']\n",
    "correct_pct = correct.sum() / len(correct)\n",
    "print(f\"{correct_pct:.2%}\")"
   ]
  },
  {
   "cell_type": "code",
   "execution_count": null,
   "metadata": {},
   "outputs": [],
   "source": []
  }
 ],
 "metadata": {
  "kernelspec": {
   "display_name": ".venv",
   "language": "python",
   "name": "python3"
  },
  "language_info": {
   "codemirror_mode": {
    "name": "ipython",
    "version": 3
   },
   "file_extension": ".py",
   "mimetype": "text/x-python",
   "name": "python",
   "nbconvert_exporter": "python",
   "pygments_lexer": "ipython3",
   "version": "3.11.4"
  }
 },
 "nbformat": 4,
 "nbformat_minor": 2
}
