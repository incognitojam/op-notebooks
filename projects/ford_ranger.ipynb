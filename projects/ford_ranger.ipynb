{
 "cells": [
  {
   "cell_type": "code",
   "execution_count": 1,
   "metadata": {},
   "outputs": [
    {
     "name": "stdout",
     "output_type": "stream",
     "text": [
      "Loaded AsBuilt data for 4 VINs\n",
      "Loaded 4 VINs (filter_comment='2024 Ford Ranger', include_openpilot=True, skipped=0, missing_asbuilt=0)\n"
     ]
    },
    {
     "data": {
      "application/vnd.jupyter.widget-view+json": {
       "model_id": "eb65dbc038c04deeabdb6bc9a214bc71",
       "version_major": 2,
       "version_minor": 0
      },
      "text/plain": [
       "Loading AsBuilt Data:   0%|          | 0/4 [00:00<?, ?it/s]"
      ]
     },
     "metadata": {},
     "output_type": "display_data"
    },
    {
     "data": {
      "text/plain": [
       "['1FTER4KH8RLE02981',\n",
       " '1FTER4HH8RLE06231',\n",
       " '1FTER4GH7RLE07548',\n",
       " '8AFBR01L4RJ379379']"
      ]
     },
     "execution_count": 1,
     "metadata": {},
     "output_type": "execute_result"
    }
   ],
   "source": [
    "import pandas as pd\n",
    "from tqdm.contrib.concurrent import process_map\n",
    "\n",
    "from notebooks.ford.asbuilt import AsBuiltData\n",
    "from notebooks.ford.vins import load_vins\n",
    "\n",
    "pd.set_option('display.max_columns', 100)\n",
    "\n",
    "vins = await load_vins(\n",
    "  filter_comment='2024 Ford Ranger',\n",
    "  include_openpilot=True,\n",
    "  skip_reasons=set(),\n",
    ")\n",
    "\n",
    "# pre-load asbuilt\n",
    "process_map(AsBuiltData.from_vin, vins, desc='Loading AsBuilt Data', chunksize=100)\n",
    "\n",
    "vins"
   ]
  },
  {
   "cell_type": "code",
   "execution_count": 2,
   "metadata": {},
   "outputs": [],
   "source": [
    "from panda.python.uds import DATA_IDENTIFIER_TYPE\n",
    "from notebooks.ford.ecu import FordEcu, FordPart\n",
    "from notebooks.ford.settings import VEHICLE_SETTINGS\n",
    "\n",
    "ecus = {\n",
    "  'PSCM': (FordEcu.PowerSteeringControlModule),\n",
    "  'APIM (SYNC 4)': (FordEcu.AccessoryProtocolInterfaceModule, FordPart.APIM_SYNC4),\n",
    "  'IPMA (Q4)': (FordEcu.ImageProcessingModuleA, FordPart.IPMA_Q4),\n",
    "  'ABS': (FordEcu.AntiLockBrakeSystem),\n",
    "  'C-CM': (FordEcu.CruiseControlModule),\n",
    "}\n",
    "\n",
    "abds: dict[str, AsBuiltData] = {vin: AsBuiltData.from_vin(vin) for vin in vins}\n",
    "\n",
    "\n",
    "with pd.ExcelWriter('ford_ranger.xlsx', engine='xlsxwriter') as writer:\n",
    "  for ecu_name, ecu in ecus.items():\n",
    "    settings = [s for s in VEHICLE_SETTINGS if s.ecu == ecu]\n",
    "    columns = [\n",
    "      'VIN',\n",
    "      *(s.comment for s in settings),\n",
    "    ]\n",
    "    rows = []\n",
    "\n",
    "    for vin, abd in abds.items():\n",
    "      rows.append([vin, *(abd.get_setting_value(s) for s in settings)])\n",
    "\n",
    "    result = pd.DataFrame(rows, columns=columns).transpose()\n",
    "    result.to_excel(writer, sheet_name=ecu_name)\n",
    "\n",
    "\n",
    "  columns = [\n",
    "    'VIN',\n",
    "  ]\n",
    "  for ecu_name in ecus.keys():\n",
    "    columns.extend((\n",
    "      f'{ecu_name} Part Number',\n",
    "      f'{ecu_name} Software Version',\n",
    "    ))\n",
    "\n",
    "  rows = []\n",
    "  for vin, abd in abds.items():\n",
    "    row = [vin]\n",
    "    for ecu in ecus.values():\n",
    "      if not abd.is_present(ecu):\n",
    "        row.extend(['not present', ''])\n",
    "        continue\n",
    "\n",
    "      ecu = abd.get_ecu(ecu)\n",
    "      pn = str(abd.get_identifier(ecu, 0xF111))\n",
    "      sw = str(abd.get_identifier(ecu, DATA_IDENTIFIER_TYPE.VEHICLE_MANUFACTURER_ECU_SOFTWARE_NUMBER))\n",
    "      row.extend([pn, sw])\n",
    "    rows.append(row)\n",
    "\n",
    "  result = pd.DataFrame(rows, columns=columns).transpose()\n",
    "  result.to_excel(writer, sheet_name='ECU Part Numbers')"
   ]
  },
  {
   "cell_type": "code",
   "execution_count": null,
   "metadata": {},
   "outputs": [],
   "source": []
  }
 ],
 "metadata": {
  "kernelspec": {
   "display_name": ".venv",
   "language": "python",
   "name": "python3"
  },
  "language_info": {
   "codemirror_mode": {
    "name": "ipython",
    "version": 3
   },
   "file_extension": ".py",
   "mimetype": "text/x-python",
   "name": "python",
   "nbconvert_exporter": "python",
   "pygments_lexer": "ipython3",
   "version": "3.11.4"
  }
 },
 "nbformat": 4,
 "nbformat_minor": 2
}
