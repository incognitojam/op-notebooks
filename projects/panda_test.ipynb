{
 "cells": [
  {
   "cell_type": "code",
   "execution_count": null,
   "metadata": {},
   "outputs": [],
   "source": [
    "from panda import Panda\n",
    "\n",
    "panda = Panda()\n",
    "panda.set_safety_mode(Panda.SAFETY_ELM327)"
   ]
  },
  {
   "cell_type": "code",
   "execution_count": null,
   "metadata": {},
   "outputs": [],
   "source": [
    "from panda.python.uds import UdsClient, MessageTimeoutError, NegativeResponseError, InvalidSubAddressError, \\\n",
    "                             SESSION_TYPE, DATA_IDENTIFIER_TYPE\n",
    "\n",
    "print('Waiting for ignition...')\n",
    "while True:\n",
    "  health = panda.health()\n",
    "  print(health)\n",
    "  if health['ignition_line']:\n",
    "    break\n",
    "\n",
    "print('Ignition detected')\n",
    "\n",
    "addr = 0x730  # PSCM\n",
    "sub_addr = None\n",
    "rx_addr = addr + 0x8\n",
    "bus = 0\n",
    "\n",
    "uds_client = UdsClient(panda, addr, rx_addr, bus, sub_addr=sub_addr, timeout=0.2, debug=True)\n",
    "\n",
    "while True:\n",
    "  try:\n",
    "    uds_client.tester_present()\n",
    "    uds_client.diagnostic_session_control(SESSION_TYPE.DEFAULT)\n",
    "    uds_client.diagnostic_session_control(SESSION_TYPE.EXTENDED_DIAGNOSTIC)\n",
    "  except NegativeResponseError:\n",
    "    pass\n",
    "  except MessageTimeoutError:\n",
    "    print('Timeout waiting for response')\n",
    "  except InvalidSubAddressError as e:\n",
    "    print(f'Invalid sub-address: {e}')"
   ]
  },
  {
   "cell_type": "code",
   "execution_count": null,
   "metadata": {},
   "outputs": [],
   "source": []
  }
 ],
 "metadata": {
  "kernelspec": {
   "display_name": ".venv",
   "language": "python",
   "name": "python3"
  },
  "language_info": {
   "codemirror_mode": {
    "name": "ipython",
    "version": 3
   },
   "file_extension": ".py",
   "mimetype": "text/x-python",
   "name": "python",
   "nbconvert_exporter": "python",
   "pygments_lexer": "ipython3",
   "version": "3.11.4"
  }
 },
 "nbformat": 4,
 "nbformat_minor": 2
}
