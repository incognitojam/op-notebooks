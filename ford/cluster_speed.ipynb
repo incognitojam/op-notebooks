{
 "cells": [
  {
   "cell_type": "code",
   "execution_count": 1,
   "metadata": {},
   "outputs": [
    {
     "name": "stderr",
     "output_type": "stream",
     "text": [
      "kj/filesystem-disk-unix.c++:1703: warning: PWD environment variable doesn't match current directory; pwd = /mnt/c/Users/camer/AppData/Local/Programs/Microsoft VS Code\n"
     ]
    }
   ],
   "source": [
    "import os\n",
    "os.environ['FILEREADER_CACHE'] = '1'\n",
    "\n",
    "from openpilot.tools.lib.comma_car_segments import get_comma_car_segments_database\n",
    "from openpilot.selfdrive.car.ford.values import CAR\n",
    "\n",
    "database = get_comma_car_segments_database()\n",
    "\n",
    "platforms = [c.value for c in CAR]"
   ]
  },
  {
   "cell_type": "code",
   "execution_count": 2,
   "metadata": {},
   "outputs": [
    {
     "name": "stdout",
     "output_type": "stream",
     "text": [
      "Got 287 segments for platform FORD BRONCO SPORT 1ST GEN, sampling 2 segments\n",
      "Got 137 segments for platform FORD ESCAPE 4TH GEN, sampling 2 segments\n",
      "Got 1041 segments for platform FORD EXPLORER 6TH GEN, sampling 2 segments\n",
      "Got 5 segments for platform FORD F-150 14TH GEN, sampling 2 segments\n",
      "scaling=100.5, offset=1.0\n",
      "Got 56 segments for platform FORD FOCUS 4TH GEN, sampling 2 segments\n",
      "Got 637 segments for platform FORD MAVERICK 1ST GEN, sampling 2 segments\n",
      "Got 3 segments for platform FORD F-150 LIGHTNING 1ST GEN, sampling 2 segments\n",
      "scaling=100.5, offset=1.0\n",
      "Got 3 segments for platform FORD MUSTANG MACH-E 1ST GEN, sampling 2 segments\n",
      "scaling=100.5, offset=1.0\n"
     ]
    }
   ],
   "source": [
    "import random\n",
    "\n",
    "from opendbc.can.parser import CANParser\n",
    "from openpilot.tools.lib.logreader import LogReader\n",
    "from openpilot.selfdrive.car.ford.values import DBC\n",
    "\n",
    "MAX_SEGS_PER_PLATFORM = 2\n",
    "\n",
    "msgs = [('Cluster_Info_3_FD1', 0)]\n",
    "\n",
    "for platform in platforms:\n",
    "  if platform not in database:\n",
    "    print(f'Skipping platform: {platform}, no data available')\n",
    "    continue\n",
    "\n",
    "  dbc = DBC[platform]['pt']\n",
    "  if dbc is None:\n",
    "    print(f'Skipping platform: {platform}, no dbc available')\n",
    "    continue\n",
    "\n",
    "  all_segments = database[platform]\n",
    "\n",
    "  NUM_SEGMENTS = min(len(all_segments), MAX_SEGS_PER_PLATFORM)\n",
    "\n",
    "  print(f'Got {len(all_segments)} segments for platform {platform}, sampling {NUM_SEGMENTS} segments')\n",
    "\n",
    "  for segment in random.sample(all_segments, NUM_SEGMENTS):\n",
    "    can_strings = []\n",
    "    for msg in LogReader(segment):\n",
    "      if msg.which() != 'can':\n",
    "        continue\n",
    "      can_strings.append(msg.as_builder().to_bytes())\n",
    "\n",
    "    if can_strings:\n",
    "      parser = CANParser(dbc, msgs, 0)\n",
    "      parser.update_strings(can_strings)\n",
    "\n",
    "      scaling = parser.vl['Cluster_Info_3_FD1']['DISPLAY_SPEED_SCALING']\n",
    "      offset = parser.vl['Cluster_Info_3_FD1']['DISPLAY_SPEED_OFFSET']\n",
    "      if scaling != 0 and offset != 0:\n",
    "        print(f'{scaling=}, {offset=}')\n",
    "        break"
   ]
  },
  {
   "cell_type": "code",
   "execution_count": null,
   "metadata": {},
   "outputs": [],
   "source": []
  }
 ],
 "metadata": {
  "kernelspec": {
   "display_name": ".venv",
   "language": "python",
   "name": "python3"
  },
  "language_info": {
   "codemirror_mode": {
    "name": "ipython",
    "version": 3
   },
   "file_extension": ".py",
   "mimetype": "text/x-python",
   "name": "python",
   "nbconvert_exporter": "python",
   "pygments_lexer": "ipython3",
   "version": "3.11.4"
  }
 },
 "nbformat": 4,
 "nbformat_minor": 2
}
